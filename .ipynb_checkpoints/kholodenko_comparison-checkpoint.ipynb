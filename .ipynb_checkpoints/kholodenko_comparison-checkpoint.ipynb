{
 "cells": [
  {
   "cell_type": "code",
   "execution_count": 7,
   "metadata": {},
   "outputs": [
    {
     "data": {
      "text/plain": [
       "'/home/priya/pysb/pysb/bng.pyc'"
      ]
     },
     "execution_count": 7,
     "metadata": {},
     "output_type": "execute_result"
    }
   ],
   "source": [
    "import pysb.bng\n",
    "import kholodenko_basic as kb\n",
    "import kholodenko_m1 as m\n",
    "import kholodenko_m3 as m3 # this is just to test redundant rules\n",
    "import sympy as sp\n",
    "from sympy.printing import latex\n",
    "import re\n",
    "import numpy as np\n",
    "import tabulate as tb\n",
    "pysb.bng.__file__"
   ]
  },
  {
   "cell_type": "code",
   "execution_count": 8,
   "metadata": {},
   "outputs": [],
   "source": [
    "pysb.bng.generate_equations(kb.model)\n",
    "pysb.bng.generate_equations(m.model)\n",
    "pysb.bng.generate_equations(m3.model)"
   ]
  },
  {
   "cell_type": "code",
   "execution_count": 44,
   "metadata": {},
   "outputs": [
    {
     "ename": "KeyError",
     "evalue": "('BI_binding', 'I(b=None) + B(d=1, i=2) % B(d=1, i=None) % I(b=2)<-->B(d=1, i=2) % B(d=1, i=3) % I(b=2) % I(b=3)')",
     "output_type": "error",
     "traceback": [
      "\u001b[0;31m---------------------------------------------------------------------------\u001b[0m",
      "\u001b[0;31mKeyError\u001b[0m                                  Traceback (most recent call last)",
      "\u001b[0;32m<ipython-input-44-3a065e688a7f>\u001b[0m in \u001b[0;36m<module>\u001b[0;34m()\u001b[0m\n\u001b[1;32m     63\u001b[0m     \u001b[0;32mreturn\u001b[0m \u001b[0msp\u001b[0m\u001b[0;34m.\u001b[0m\u001b[0mexpand_power_base\u001b[0m\u001b[0;34m(\u001b[0m\u001b[0msp\u001b[0m\u001b[0;34m.\u001b[0m\u001b[0mpowdenest\u001b[0m\u001b[0;34m(\u001b[0m\u001b[0msp\u001b[0m\u001b[0;34m.\u001b[0m\u001b[0mlogcombine\u001b[0m\u001b[0;34m(\u001b[0m\u001b[0msp\u001b[0m\u001b[0;34m.\u001b[0m\u001b[0mexpand_log\u001b[0m\u001b[0;34m(\u001b[0m\u001b[0mmul\u001b[0m\u001b[0;34m.\u001b[0m\u001b[0msimplify\u001b[0m\u001b[0;34m(\u001b[0m\u001b[0;34m)\u001b[0m\u001b[0;34m,\u001b[0m \u001b[0mforce\u001b[0m\u001b[0;34m=\u001b[0m\u001b[0mTrue\u001b[0m\u001b[0;34m)\u001b[0m\u001b[0;34m,\u001b[0m \u001b[0mforce\u001b[0m\u001b[0;34m=\u001b[0m\u001b[0mTrue\u001b[0m\u001b[0;34m)\u001b[0m\u001b[0;34m,\u001b[0m \u001b[0mforce\u001b[0m\u001b[0;34m=\u001b[0m\u001b[0mTrue\u001b[0m\u001b[0;34m)\u001b[0m\u001b[0;34m,\u001b[0m \u001b[0mforce\u001b[0m\u001b[0;34m=\u001b[0m\u001b[0mTrue\u001b[0m\u001b[0;34m)\u001b[0m\u001b[0;34m\u001b[0m\u001b[0m\n\u001b[1;32m     64\u001b[0m \u001b[0;34m\u001b[0m\u001b[0m\n\u001b[0;32m---> 65\u001b[0;31m \u001b[0mspecies\u001b[0m\u001b[0;34m,\u001b[0m \u001b[0mrxns\u001b[0m \u001b[0;34m=\u001b[0m \u001b[0mgen_table\u001b[0m\u001b[0;34m(\u001b[0m\u001b[0;34m[\u001b[0m\u001b[0mm\u001b[0m\u001b[0;34m,\u001b[0m \u001b[0mkb\u001b[0m\u001b[0;34m]\u001b[0m\u001b[0;34m)\u001b[0m\u001b[0;34m\u001b[0m\u001b[0m\n\u001b[0m\u001b[1;32m     66\u001b[0m \u001b[0;32mwith\u001b[0m \u001b[0mopen\u001b[0m\u001b[0;34m(\u001b[0m\u001b[0;34m'model.txt'\u001b[0m\u001b[0;34m,\u001b[0m \u001b[0;34m'w'\u001b[0m\u001b[0;34m)\u001b[0m \u001b[0;32mas\u001b[0m \u001b[0mout\u001b[0m\u001b[0;34m:\u001b[0m\u001b[0;34m\u001b[0m\u001b[0m\n\u001b[1;32m     67\u001b[0m     \u001b[0mout\u001b[0m\u001b[0;34m.\u001b[0m\u001b[0mwrite\u001b[0m\u001b[0;34m(\u001b[0m\u001b[0mtb\u001b[0m\u001b[0;34m.\u001b[0m\u001b[0mtabulate\u001b[0m\u001b[0;34m(\u001b[0m\u001b[0mspecies\u001b[0m\u001b[0;34m)\u001b[0m\u001b[0;34m)\u001b[0m\u001b[0;34m\u001b[0m\u001b[0m\n",
      "\u001b[0;32m<ipython-input-44-3a065e688a7f>\u001b[0m in \u001b[0;36mgen_table\u001b[0;34m(model_list, fmt)\u001b[0m\n\u001b[1;32m     31\u001b[0m \u001b[0;34m\u001b[0m\u001b[0m\n\u001b[1;32m     32\u001b[0m     rxn_dict = { k: np.hstack([np.array([[k[0], 'K_f'], [k[1], 'K_r'], [\"\", 'K_d']]), \n\u001b[0;32m---> 33\u001b[0;31m                                                     np.array([d[k] for d in dicts]).T]) for k in dicts[0] }\n\u001b[0m\u001b[1;32m     34\u001b[0m     \u001b[0mrxn_array\u001b[0m \u001b[0;34m=\u001b[0m \u001b[0mnp\u001b[0m\u001b[0;34m.\u001b[0m\u001b[0mvstack\u001b[0m\u001b[0;34m(\u001b[0m\u001b[0;34m[\u001b[0m\u001b[0mnp\u001b[0m\u001b[0;34m.\u001b[0m\u001b[0marray\u001b[0m\u001b[0;34m(\u001b[0m\u001b[0;34m[\u001b[0m\u001b[0;34m[\u001b[0m\u001b[0;34m\"Rule\"\u001b[0m\u001b[0;34m,\u001b[0m \u001b[0;34m\"Rate\"\u001b[0m\u001b[0;34m]\u001b[0m \u001b[0;34m+\u001b[0m \u001b[0;34m[\u001b[0m\u001b[0mmod\u001b[0m\u001b[0;34m.\u001b[0m\u001b[0m__name__\u001b[0m\u001b[0;34m.\u001b[0m\u001b[0mreplace\u001b[0m\u001b[0;34m(\u001b[0m\u001b[0;34m\"_\"\u001b[0m\u001b[0;34m,\u001b[0m \u001b[0;34m\"-\"\u001b[0m\u001b[0;34m)\u001b[0m \u001b[0;32mfor\u001b[0m \u001b[0mmod\u001b[0m \u001b[0;32min\u001b[0m \u001b[0mmodel_list\u001b[0m\u001b[0;34m]\u001b[0m\u001b[0;34m]\u001b[0m\u001b[0;34m)\u001b[0m\u001b[0;34m,\u001b[0m \u001b[0mnp\u001b[0m\u001b[0;34m.\u001b[0m\u001b[0mvstack\u001b[0m\u001b[0;34m(\u001b[0m\u001b[0mrxn_dict\u001b[0m\u001b[0;34m.\u001b[0m\u001b[0mvalues\u001b[0m\u001b[0;34m(\u001b[0m\u001b[0;34m)\u001b[0m\u001b[0;34m)\u001b[0m\u001b[0;34m]\u001b[0m\u001b[0;34m)\u001b[0m\u001b[0;34m\u001b[0m\u001b[0m\n\u001b[1;32m     35\u001b[0m \u001b[0;34m\u001b[0m\u001b[0m\n",
      "\u001b[0;32m<ipython-input-44-3a065e688a7f>\u001b[0m in \u001b[0;36m<dictcomp>\u001b[0;34m((k,))\u001b[0m\n\u001b[1;32m     31\u001b[0m \u001b[0;34m\u001b[0m\u001b[0m\n\u001b[1;32m     32\u001b[0m     rxn_dict = { k: np.hstack([np.array([[k[0], 'K_f'], [k[1], 'K_r'], [\"\", 'K_d']]), \n\u001b[0;32m---> 33\u001b[0;31m                                                     np.array([d[k] for d in dicts]).T]) for k in dicts[0] }\n\u001b[0m\u001b[1;32m     34\u001b[0m     \u001b[0mrxn_array\u001b[0m \u001b[0;34m=\u001b[0m \u001b[0mnp\u001b[0m\u001b[0;34m.\u001b[0m\u001b[0mvstack\u001b[0m\u001b[0;34m(\u001b[0m\u001b[0;34m[\u001b[0m\u001b[0mnp\u001b[0m\u001b[0;34m.\u001b[0m\u001b[0marray\u001b[0m\u001b[0;34m(\u001b[0m\u001b[0;34m[\u001b[0m\u001b[0;34m[\u001b[0m\u001b[0;34m\"Rule\"\u001b[0m\u001b[0;34m,\u001b[0m \u001b[0;34m\"Rate\"\u001b[0m\u001b[0;34m]\u001b[0m \u001b[0;34m+\u001b[0m \u001b[0;34m[\u001b[0m\u001b[0mmod\u001b[0m\u001b[0;34m.\u001b[0m\u001b[0m__name__\u001b[0m\u001b[0;34m.\u001b[0m\u001b[0mreplace\u001b[0m\u001b[0;34m(\u001b[0m\u001b[0;34m\"_\"\u001b[0m\u001b[0;34m,\u001b[0m \u001b[0;34m\"-\"\u001b[0m\u001b[0;34m)\u001b[0m \u001b[0;32mfor\u001b[0m \u001b[0mmod\u001b[0m \u001b[0;32min\u001b[0m \u001b[0mmodel_list\u001b[0m\u001b[0;34m]\u001b[0m\u001b[0;34m]\u001b[0m\u001b[0;34m)\u001b[0m\u001b[0;34m,\u001b[0m \u001b[0mnp\u001b[0m\u001b[0;34m.\u001b[0m\u001b[0mvstack\u001b[0m\u001b[0;34m(\u001b[0m\u001b[0mrxn_dict\u001b[0m\u001b[0;34m.\u001b[0m\u001b[0mvalues\u001b[0m\u001b[0;34m(\u001b[0m\u001b[0;34m)\u001b[0m\u001b[0;34m)\u001b[0m\u001b[0;34m]\u001b[0m\u001b[0;34m)\u001b[0m\u001b[0;34m\u001b[0m\u001b[0m\n\u001b[1;32m     35\u001b[0m \u001b[0;34m\u001b[0m\u001b[0m\n",
      "\u001b[0;31mKeyError\u001b[0m: ('BI_binding', 'I(b=None) + B(d=1, i=2) % B(d=1, i=None) % I(b=2)<-->B(d=1, i=2) % B(d=1, i=3) % I(b=2) % I(b=3)')"
     ]
    }
   ],
   "source": [
    "\"\"\"for i, j in zip(kb.model.species, ke.model.species):\n",
    " \n",
    "    assert i.is_equivalent_to(j)\n",
    "\n",
    "species_map = dict(zip(range(len(kb.model.species)), kb.model.species))\n",
    "\n",
    "ke_subs, kb_subs = [zip(m.model.expressions,[e.expand_expr(expand_observables=True) for e in m.model.expressions]) for m in ke, kb]\n",
    "print ke.model.parameters[2]\n",
    "ke_dict, kb_dict = [dict([((x['reactants'], x['products']), x['rate']) for x in y])\n",
    "                                    for y in [ke.model.reactions, kb.model.reactions]]\n",
    "\n",
    "\"\"\"\n",
    "\"\"\"\n",
    "TODO:\n",
    "0. NOT DONE:\n",
    "    organize by products and reactants then subset by rule name because rule names are NOT conserved\n",
    "DONE:\n",
    "1. Substitute the species __s0 with some identifier Done 23 oct\n",
    "2. Find a list of all of the UNIQUE bidirectional reactions Done 23 oct\"\"\"\n",
    "def fmt_rct(r, species_dict, fmt='plain'):\n",
    "    \n",
    "    arrow = {'latex': \" $\\longleftrightarrow$ \",\n",
    "             'plain': \"<-->\"}[fmt]\n",
    "    r_schema = \" + \".join(map(latex, r.reactants)) + arrow + \"\".join(map(latex, r.products))\n",
    "    return ((r.name, r_schema), [latex(r.fwd_rate), latex(r.rev_rate), latex(r.kd)])\n",
    "\n",
    "\n",
    "def gen_table(model_list, fmt='plain'):\n",
    "    \n",
    "    # this is assuming that all models must have the same species....\n",
    "    m = model_list[0]\n",
    "    species_dict = dict([('__s%d' % idx, str(m.model.species[idx])) for idx in range(len(m.model.species))])\n",
    "    \n",
    "    dicts = [dict([fmt_rct(x, species_dict) for x in gen_rct_rates(m)]) for m in model_list]\n",
    "\n",
    "    rxn_dict = { k: np.hstack([np.array([[k[0], 'K_f'], [k[1], 'K_r'], [\"\", 'K_d']]), \n",
    "                                                    np.array([d[k] for d in dicts]).T]) for k in dicts[0] }\n",
    "    rxn_array = np.vstack([np.array([[\"Rule\", \"Rate\"] + [mod.__name__.replace(\"_\", \"-\") for mod in model_list]]), np.vstack(rxn_dict.values())])\n",
    "\n",
    "    return np.array(species_dict.items()), rxn_array \n",
    "        \n",
    "def gen_rct_rates(m):\n",
    "    ## from a model, create a generator of all reaction rates binned by forward, reverse, kd\n",
    "  \n",
    "    rct_subs = dict(zip(m.model.expressions,[e.expand_expr(expand_observables=True) for e in m.model.expressions])) #\\+ [(sp.Symbol('__s%d' % m.model.get_species_index(complex_pattern=species)), latex(species)) for species in m.model.species])\n",
    "    species_map = dict(zip(range(len(m.model.species)), m.model.species))\n",
    "    species = lambda tup: [species_map[x] for x in tup]\n",
    "    \n",
    "    rule_names = [r.name for r in m.model.rules]\n",
    "    fwd_rxn = dict([(r[\"rule\"][0], r) for r in m.model.reactions if not r[\"reverse\"][0]])\n",
    "    rev_rxn = dict([(r[\"rule\"][0], r) for r in m.model.reactions if r[\"reverse\"][0]])\n",
    "    rxn_tup = collections.namedtuple(\"reaction\", [\"name\", \"reactants\", \"products\", \"fwd_rate\", \"rev_rate\", \"kd\"])\n",
    "    \n",
    "    def make_rct_tuple(rule_name):\n",
    "        \n",
    "        rev_rate = extra_simple(rev_rxn[rule_name][\"rate\"].subs(rct_subs))\n",
    "        fwd_rate = extra_simple(fwd_rxn[rule_name][\"rate\"].subs(rct_subs))\n",
    "        kd = extra_simple(rev_rate/fwd_rate)\n",
    "        reactants, products = [species(fwd_rxn[rule_name][s]) for s in [\"reactants\", \"products\"]]\n",
    "\n",
    "        return rxn_tup(rule_name, reactants, products, fwd_rate, rev_rate, kd)\n",
    "    \n",
    "    return map(make_rct_tuple, rule_names)\n",
    "\n",
    "\n",
    "def extra_simple(mul):\n",
    "    return sp.expand_power_base(sp.powdenest(sp.logcombine(sp.expand_log(mul.simplify(), force=True), force=True), force=True), force=True)\n",
    "\n",
    "species, rxns = gen_table([m, kb])\n",
    "with open('model.txt', 'w') as out:\n",
    "    out.write(tb.tabulate(species))\n",
    "    out.write(tb.tabulate(rxns))\n",
    "\n",
    "## other shit here\n",
    "#def fmt_reaction(reaction, m=m):\n",
    "    \n",
    "#    reaction = str(reaction)\n",
    "    #for species in range(len(m.model.species)):\n",
    "    #    match = '__s' + str(species)\n",
    "        #reaction = reaction.replace(match, '[' + str(m.model.species[species]).replace(\"(\", \"_{\").replace(\")\", \"}\").replace(\" % \", \":\")+']')\n",
    "        \n",
    "     #   reaction = re.sub(r'\\([^%]+\\)', \"\", \\\n",
    "     #                     reaction.replace(match, \"[%s]\" % str(m.model.species[species]))).replace(\" % \", \"\")\n",
    "#    return reaction\n",
    "\n",
    "\n",
    "def gen_latex(rct_rates, m):\n",
    "    \n",
    "    species_name_dict = dict([('__s%d' % idx, str(m.model.species[idx])) for idx in range(len(m.model.species))])\n",
    "    \n",
    "    def fmt_rxn(reaction):\n",
    "        return latex(reaction)\n",
    "    \n",
    "    for r in rct_rates:\n",
    "        rct_schema = \" + \".join(map(fmt_reaction, r.reactants)) \\\n",
    "        + \" $\\longleftrightarrow$ \" + \"\".join(map(fmt_reaction, r.products))\n",
    "        rates = [r.fwd_rate, r.rev_rate, r.kd]\n",
    "        yield ((r.name, rct_schema), map(lambda eq: \"$%s$\" % fmt_reaction(eq), rates)) # fmt_reaction(latex(eq))\n",
    "\n",
    "\n",
    "\n",
    "\n",
    "def rct_rates(fwd_key, rct_dict, rct_subs):\n",
    "    ## Takes keys of FORWARD reactions\n",
    "    fwd_rate = extra_simple(rct_dict[fwd_key].subs(rct_subs).simplify())\n",
    "    rev_rate = extra_simple(rct_dict[(fwd_key[1], fwd_key[0])].subs(rct_subs).simplify())\n",
    "    k_d = extra_simple(rev_rate/fwd_rate)\n",
    "    return (fwd_rate, rev_rate, k_d)\n",
    "\n",
    "def extra_simple(mul):\n",
    "    return sp.expand_power_base(sp.powdenest(sp.logcombine(sp.expand_log(mul.simplify(), force=True), force=True), force=True), force=True)\n",
    "\n",
    "def latex_table_models(model_list):\n",
    "    ## Takes in a list of models with the same k's, though calculated potentially differently\n",
    "    dicts = [dict([x for x in gen_latex(gen_rct_rates(model))]) for model in model_list]\n",
    "    print np.array([['K_f', 'K_r', 'K_d']]).shape\n",
    "    latex_dict = { k: np.hstack([np.array([[k[0], 'K_f'], [k[1], 'K_r'], [\"\", 'K_d']]), \n",
    "                                                    np.array([d[k] for d in dicts]).T]) for k in dicts[0] }\n",
    "    return np.vstack([np.array([[\"Rule\", \"Rate\"] + [mod.__name__.replace(\"_\", \"-\") for mod in model_list]]), np.vstack(latex_dict.values())])\n",
    "\n",
    "def write_latex_dict_to_file(latex_table, outfile):\n",
    "    with open(outfile, 'w') as out:\n",
    "        out.write(\"\\n\".join([\"\\documentclass{article}\",\n",
    "                             \"\\usepackage[utf8]{inputenc}\", \n",
    "                             \"\\usepackage{amsmath}\", \n",
    "                             \"\\\\begin{document}\", \n",
    "                            '\\def\\\\arraystretch{2}']))\n",
    "        out.write(tb.tabulate(latex_table, tablefmt='latex_raw'))\n",
    "        out.write(\"\\end{document}\")\n",
    "                  \n",
    "    \n",
    "#write_latex_dict_to_file(latex_table_models([m3]), 'model.txt')\n"
   ]
  },
  {
   "cell_type": "markdown",
   "metadata": {},
   "source": [
    "### dir(m)"
   ]
  },
  {
   "cell_type": "code",
   "execution_count": 23,
   "metadata": {},
   "outputs": [
    {
     "data": {
      "text/plain": [
       "'BB_dimerization'"
      ]
     },
     "execution_count": 23,
     "metadata": {},
     "output_type": "execute_result"
    }
   ],
   "source": [
    "m3.model.reactions\n",
    "m3.model.rules[0].name"
   ]
  },
  {
   "cell_type": "code",
   "execution_count": 20,
   "metadata": {},
   "outputs": [
    {
     "data": {
      "text/plain": [
       "['__add__',\n",
       " '__class__',\n",
       " '__contains__',\n",
       " '__delattr__',\n",
       " '__dict__',\n",
       " '__doc__',\n",
       " '__eq__',\n",
       " '__format__',\n",
       " '__ge__',\n",
       " '__getattribute__',\n",
       " '__getitem__',\n",
       " '__getnewargs__',\n",
       " '__getslice__',\n",
       " '__getstate__',\n",
       " '__gt__',\n",
       " '__hash__',\n",
       " '__init__',\n",
       " '__iter__',\n",
       " '__le__',\n",
       " '__len__',\n",
       " '__lt__',\n",
       " '__module__',\n",
       " '__mul__',\n",
       " '__ne__',\n",
       " '__new__',\n",
       " '__reduce__',\n",
       " '__reduce_ex__',\n",
       " '__repr__',\n",
       " '__rmul__',\n",
       " '__setattr__',\n",
       " '__sizeof__',\n",
       " '__slots__',\n",
       " '__str__',\n",
       " '__subclasshook__',\n",
       " '_asdict',\n",
       " '_fields',\n",
       " '_make',\n",
       " '_replace',\n",
       " 'count',\n",
       " 'h',\n",
       " 'i',\n",
       " 'index',\n",
       " 'j']"
      ]
     },
     "execution_count": 20,
     "metadata": {},
     "output_type": "execute_result"
    }
   ],
   "source": [
    "import collections\n",
    "g = collections.namedtuple(\"reaction\", [\"h\", \"i\", \"j\"])\n",
    "dir(g(2, 3, 5))"
   ]
  },
  {
   "cell_type": "code",
   "execution_count": null,
   "metadata": {
    "collapsed": true
   },
   "outputs": [],
   "source": []
  },
  {
   "cell_type": "code",
   "execution_count": null,
   "metadata": {
    "collapsed": true
   },
   "outputs": [],
   "source": []
  }
 ],
 "metadata": {
  "kernelspec": {
   "display_name": "Python 2",
   "language": "python",
   "name": "python2"
  },
  "language_info": {
   "codemirror_mode": {
    "name": "ipython",
    "version": 2
   },
   "file_extension": ".py",
   "mimetype": "text/x-python",
   "name": "python",
   "nbconvert_exporter": "python",
   "pygments_lexer": "ipython2",
   "version": "2.7.13"
  }
 },
 "nbformat": 4,
 "nbformat_minor": 2
}
