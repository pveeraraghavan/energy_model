{
 "cells": [
  {
   "cell_type": "code",
   "execution_count": 1,
   "metadata": {},
   "outputs": [
    {
     "data": {
      "text/plain": [
       "'/home/priya/pysb/pysb/bng.pyc'"
      ]
     },
     "execution_count": 1,
     "metadata": {},
     "output_type": "execute_result"
    }
   ],
   "source": [
    "import pysb.bng\n",
    "import kholodenko_basic as kb\n",
    "import kholodenko_m1 as ke\n",
    "import sympy as sp\n",
    "\n",
    "pysb.bng.__file__"
   ]
  },
  {
   "cell_type": "code",
   "execution_count": 2,
   "metadata": {
    "collapsed": true
   },
   "outputs": [],
   "source": [
    "pysb.bng.generate_equations(kb.model)\n",
    "pysb.bng.generate_equations(ke.model)"
   ]
  },
  {
   "cell_type": "code",
   "execution_count": 3,
   "metadata": {},
   "outputs": [
    {
     "name": "stdout",
     "output_type": "stream",
     "text": [
      "B(d=None, i=None) B(d=None, i=None)\n",
      "I(b=None) I(b=None)\n",
      "B(d=1, i=None) % B(d=1, i=None) B(d=1, i=None) % B(d=1, i=None)\n",
      "B(d=None, i=1) % I(b=1) B(d=None, i=1) % I(b=1)\n",
      "B(d=1, i=2) % B(d=1, i=None) % I(b=2) B(d=1, i=2) % B(d=1, i=None) % I(b=2)\n",
      "B(d=1, i=2) % B(d=1, i=3) % I(b=2) % I(b=3) B(d=1, i=2) % B(d=1, i=3) % I(b=2) % I(b=3)\n",
      "Parameter('RT', 2.577)\n",
      "\n",
      "rct: (0, 0) --> (2,)\n",
      "rct: [B(d=None, i=None), B(d=None, i=None)] --> [B(d=1, i=None) % B(d=1, i=None)]\n",
      "e 0.5*__s0**2*kon_BB\n",
      "b 0.5*__s0**2*kon_BB\n",
      "\n",
      "\n",
      "rct: (0, 1) --> (3,)\n",
      "rct: [B(d=None, i=None), I(b=None)] --> [B(d=None, i=1) % I(b=1)]\n",
      "e __s0*__s1*kon_BI\n",
      "b __s0*__s1*kon_BI\n",
      "\n",
      "\n",
      "rct: (0, 3) --> (4,)\n",
      "rct: [B(d=None, i=None), B(d=None, i=1) % I(b=1)] --> [B(d=1, i=2) % B(d=1, i=None) % I(b=2)]\n",
      "e __s0*__s3*kon_BB*exp(-phi*log(f))\n",
      "b __s0*__s3*f**(-phi)*kon_BB\n",
      "\n",
      "\n",
      "rct: (1, 2) --> (4,)\n",
      "rct: [I(b=None), B(d=1, i=None) % B(d=1, i=None)] --> [B(d=1, i=2) % B(d=1, i=None) % I(b=2)]\n",
      "e 2.0*__s1*__s2*kon_BI*exp(-phi*log(f))\n",
      "b 2.0*__s1*__s2*f**(-phi)*kon_BI\n",
      "\n",
      "\n",
      "rct: (1, 4) --> (5,)\n",
      "rct: [I(b=None), B(d=1, i=2) % B(d=1, i=None) % I(b=2)] --> [B(d=1, i=2) % B(d=1, i=3) % I(b=2) % I(b=3)]\n",
      "e __s1*__s4*kon_BI*exp(phi*log(f) - phi*log(g))\n",
      "b __s1*__s4*g**(-phi)*kon_BI\n",
      "\n",
      "\n",
      "rct: (2,) --> (0, 0)\n",
      "rct: [B(d=1, i=None) % B(d=1, i=None)] --> [B(d=None, i=None), B(d=None, i=None)]\n",
      "e __s2*kon_BB**2/koff_BB\n",
      "b __s2*koff_BB\n",
      "\n",
      "\n",
      "rct: (3,) --> (0, 1)\n",
      "rct: [B(d=None, i=1) % I(b=1)] --> [B(d=None, i=None), I(b=None)]\n",
      "e __s3*kon_BI**2/koff_BI\n",
      "b __s3*koff_BI\n",
      "\n",
      "\n",
      "rct: (3, 3) --> (5,)\n",
      "rct: [B(d=None, i=1) % I(b=1), B(d=None, i=1) % I(b=1)] --> [B(d=1, i=2) % B(d=1, i=3) % I(b=2) % I(b=3)]\n",
      "e 0.5*__s3**2*kon_BB*exp(-phi*log(g))\n",
      "b 0.5*__s3**2*kon_BB*(f*g)**(-phi)\n",
      "\n",
      "\n",
      "rct: (4,) --> (0, 3)\n",
      "rct: [B(d=1, i=2) % B(d=1, i=None) % I(b=2)] --> [B(d=None, i=None), B(d=None, i=1) % I(b=1)]\n",
      "e __s4*f*kon_BB**2*exp(-phi*log(f))/koff_BB\n",
      "b __s4*f**(-phi + 1)*koff_BB\n",
      "\n",
      "\n",
      "rct: (4,) --> (1, 2)\n",
      "rct: [B(d=1, i=2) % B(d=1, i=None) % I(b=2)] --> [I(b=None), B(d=1, i=None) % B(d=1, i=None)]\n",
      "e __s4*f*kon_BI**2*exp(-phi*log(f))/koff_BI\n",
      "b __s4*f**(-phi + 1)*koff_BI\n",
      "\n",
      "\n",
      "rct: (5,) --> (1, 4)\n",
      "rct: [B(d=1, i=2) % B(d=1, i=3) % I(b=2) % I(b=3)] --> [I(b=None), B(d=1, i=2) % B(d=1, i=None) % I(b=2)]\n",
      "e 2.0*__s5*g*kon_BI**2*exp(phi*log(f) - phi*log(g))/(f*koff_BI)\n",
      "b 2.0*__s5*g**(-phi + 1)*koff_BI\n",
      "\n",
      "\n",
      "rct: (5,) --> (3, 3)\n",
      "rct: [B(d=1, i=2) % B(d=1, i=3) % I(b=2) % I(b=3)] --> [B(d=None, i=1) % I(b=1), B(d=None, i=1) % I(b=1)]\n",
      "e __s5*g*kon_BB**2*exp(-phi*log(g))/koff_BB\n",
      "b __s5*koff_BB*(f*g)**(-phi + 1)\n",
      "\n"
     ]
    }
   ],
   "source": [
    "for i, j in zip(kb.model.species, ke.model.species):\n",
    "    print i, j\n",
    "    assert i.is_equivalent_to(j)\n",
    "\n",
    "species_map = dict(zip(range(len(kb.model.species)), kb.model.species))\n",
    "def species(tup):\n",
    "    return [species_map[x] for x in tup]\n",
    "#print ke.model.parameters\n",
    "#print kb.model.parameters\n",
    "#print kb.model.expressions\n",
    "ke_subs, kb_subs = [zip(m.model.expressions,[e.expand_expr(expand_observables=True) for e in m.model.expressions]) for m in ke, kb]\n",
    "print ke.model.parameters[2]\n",
    "ke_dict, kb_dict = [dict([((x['reactants'], x['products']), x['rate']) for x in y])\n",
    "                                    for y in [ke.model.reactions, kb.model.reactions]]\n",
    "for key in sorted(ke_dict.keys()):\n",
    "    e_sub = sp.sympify(str(ke_dict[key].subs(ke_subs).simplify()))\n",
    "    b_sub = sp.sympify(str(kb_dict[key].subs(kb_subs).simplify()))\n",
    "    print \"\"\n",
    "    print \"rct:\", key[0],\"-->\", key[1]\n",
    "    print \"rct:\", species(key[0]),\"-->\", species(key[1])\n",
    "    print \"e\", e_sub\n",
    "    print \"b\", b_sub\n",
    "    print \"\"\n",
    "    #assert e_sub.equals(b_sub)\n",
    "\n",
    "    \n",
    "    #print e.subs(ke_subs), b.subs(kb_subs)\n",
    "#for e, b in rct:\n",
    "    #e_sub = sp.sympify(str(e[2].subs(ke_subs).simplify()))\n",
    "    #b_sub = sp.sympify(str(b[2].subs(kb_subs).simplify()))"
   ]
  },
  {
   "cell_type": "markdown",
   "metadata": {},
   "source": [
    "### dir(m)"
   ]
  },
  {
   "cell_type": "code",
   "execution_count": 4,
   "metadata": {},
   "outputs": [
    {
     "name": "stdout",
     "output_type": "stream",
     "text": [
      "[{'reactants': (0, 0), 'products': (2,), 'rate': 0.5*__s0**2*_BB_dimerization_local1, 'rule': ('BB_dimerization',), 'reverse': (False,)}, {'reactants': (0, 1), 'products': (3,), 'rate': __s0*__s1*_BI_binding_local1, 'rule': ('BI_binding',), 'reverse': (False,)}, {'reactants': (0, 3), 'products': (4,), 'rate': __s0*__s3*_BB_dimerization_local2, 'rule': ('BB_dimerization',), 'reverse': (False,)}, {'reactants': (3, 3), 'products': (5,), 'rate': 0.5*__s3**2*_BB_dimerization_local3, 'rule': ('BB_dimerization',), 'reverse': (False,)}, {'reactants': (2,), 'products': (0, 0), 'rate': __s2*__reverse_BB_dimerization_local1, 'rule': ('BB_dimerization',), 'reverse': (True,)}, {'reactants': (1, 2), 'products': (4,), 'rate': 2.0*__s1*__s2*_BI_binding_local2, 'rule': ('BI_binding',), 'reverse': (False,)}, {'reactants': (3,), 'products': (0, 1), 'rate': __s3*__reverse_BI_binding_local1, 'rule': ('BI_binding',), 'reverse': (True,)}, {'reactants': (4,), 'products': (0, 3), 'rate': __s4*__reverse_BB_dimerization_local2, 'rule': ('BB_dimerization',), 'reverse': (True,)}, {'reactants': (5,), 'products': (3, 3), 'rate': __s5*__reverse_BB_dimerization_local3, 'rule': ('BB_dimerization',), 'reverse': (True,)}, {'reactants': (1, 4), 'products': (5,), 'rate': __s1*__s4*_BI_binding_local3, 'rule': ('BI_binding',), 'reverse': (False,)}, {'reactants': (4,), 'products': (1, 2), 'rate': __s4*__reverse_BI_binding_local2, 'rule': ('BI_binding',), 'reverse': (True,)}, {'reactants': (5,), 'products': (1, 4), 'rate': 2.0*__s5*__reverse_BI_binding_local3, 'rule': ('BI_binding',), 'reverse': (True,)}]\n"
     ]
    }
   ],
   "source": [
    "print ke.model.reactions\n"
   ]
  },
  {
   "cell_type": "code",
   "execution_count": 5,
   "metadata": {},
   "outputs": [
    {
     "ename": "NameError",
     "evalue": "name '__s0' is not defined",
     "output_type": "error",
     "traceback": [
      "\u001b[0;31m---------------------------------------------------------------------------\u001b[0m",
      "\u001b[0;31mNameError\u001b[0m                                 Traceback (most recent call last)",
      "\u001b[0;32m<ipython-input-5-fdb927a5c7c2>\u001b[0m in \u001b[0;36m<module>\u001b[0;34m()\u001b[0m\n\u001b[0;32m----> 1\u001b[0;31m \u001b[0msp\u001b[0m\u001b[0;34m.\u001b[0m\u001b[0mparsing\u001b[0m\u001b[0;34m.\u001b[0m\u001b[0msympy_parser\u001b[0m\u001b[0;34m.\u001b[0m\u001b[0meval_expr\u001b[0m\u001b[0;34m(\u001b[0m\u001b[0;34m'0.5*__s0**2*exp(RT*log(kon_BB)*RT**(-1))'\u001b[0m\u001b[0;34m,\u001b[0m \u001b[0;34m{\u001b[0m\u001b[0;34m}\u001b[0m\u001b[0;34m,\u001b[0m \u001b[0;34m{\u001b[0m\u001b[0;34m}\u001b[0m\u001b[0;34m)\u001b[0m\u001b[0;34m\u001b[0m\u001b[0m\n\u001b[0m",
      "\u001b[0;32m/home/priya/.local/lib/python2.7/site-packages/sympy/parsing/sympy_parser.pyc\u001b[0m in \u001b[0;36meval_expr\u001b[0;34m(code, local_dict, global_dict)\u001b[0m\n\u001b[1;32m    805\u001b[0m     \"\"\"\n\u001b[1;32m    806\u001b[0m     expr = eval(\n\u001b[0;32m--> 807\u001b[0;31m         code, global_dict, local_dict)  # take local objects in preference\n\u001b[0m\u001b[1;32m    808\u001b[0m \u001b[0;34m\u001b[0m\u001b[0m\n\u001b[1;32m    809\u001b[0m     \u001b[0;32mreturn\u001b[0m \u001b[0mexpr\u001b[0m\u001b[0;34m\u001b[0m\u001b[0m\n",
      "\u001b[0;32m<string>\u001b[0m in \u001b[0;36m<module>\u001b[0;34m()\u001b[0m\n",
      "\u001b[0;31mNameError\u001b[0m: name '__s0' is not defined"
     ]
    }
   ],
   "source": [
    "sp.parsing.sympy_parser.eval_expr('0.5*__s0**2*exp(RT*log(kon_BB)*RT**(-1))', {}, {})"
   ]
  },
  {
   "cell_type": "code",
   "execution_count": null,
   "metadata": {
    "collapsed": true
   },
   "outputs": [],
   "source": []
  },
  {
   "cell_type": "code",
   "execution_count": null,
   "metadata": {
    "collapsed": true
   },
   "outputs": [],
   "source": []
  }
 ],
 "metadata": {
  "kernelspec": {
   "display_name": "Python 2",
   "language": "python",
   "name": "python2"
  },
  "language_info": {
   "codemirror_mode": {
    "name": "ipython",
    "version": 2
   },
   "file_extension": ".py",
   "mimetype": "text/x-python",
   "name": "python",
   "nbconvert_exporter": "python",
   "pygments_lexer": "ipython2",
   "version": "2.7.13"
  }
 },
 "nbformat": 4,
 "nbformat_minor": 2
}
