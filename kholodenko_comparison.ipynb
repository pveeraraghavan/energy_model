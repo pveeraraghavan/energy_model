{
 "cells": [
  {
   "cell_type": "code",
   "execution_count": 1,
   "metadata": {},
   "outputs": [
    {
     "data": {
      "text/plain": [
       "'/home/priya/pysb/pysb/bng.pyc'"
      ]
     },
     "execution_count": 1,
     "metadata": {},
     "output_type": "execute_result"
    }
   ],
   "source": [
    "import pysb.bng\n",
    "import kholodenko_basic as kb\n",
    "import kholodenko_m1 as m\n",
    "import sympy as sp\n",
    "from sympy.printing import latex\n",
    "pysb.bng.__file__"
   ]
  },
  {
   "cell_type": "code",
   "execution_count": 2,
   "metadata": {},
   "outputs": [],
   "source": [
    "pysb.bng.generate_equations(kb.model)\n",
    "pysb.bng.generate_equations(m.model)"
   ]
  },
  {
   "cell_type": "code",
   "execution_count": 3,
   "metadata": {},
   "outputs": [
    {
     "name": "stdout",
     "output_type": "stream",
     "text": [
      "[B(d=None, i=None), B(d=None, i=None)] <--> [B(d=1, i=None) % B(d=1, i=None)]\n",
      "K_f: 0.5*__s0**2*kon_BB\n",
      "K_r: __s2*koff_BB\n",
      "K_d: 2.0*__s2*kon_BB**(-1)*koff_BB/__s0**2\n",
      "[B(d=None, i=None), I(b=None)] <--> [B(d=None, i=1) % I(b=1)]\n",
      "K_f: __s0*__s1*kon_BI\n",
      "K_r: __s3*koff_BI\n",
      "K_d: __s3*kon_BI**(-1)*koff_BI/(__s0*__s1)\n",
      "[B(d=None, i=None), B(d=None, i=1) % I(b=1)] <--> [B(d=1, i=2) % B(d=1, i=None) % I(b=2)]\n",
      "K_f: __s0*__s3*f**(-phi)*kon_BB\n",
      "K_r: __s4*f**(1 - phi)*koff_BB\n",
      "K_d: __s4*kon_BB**(-1)*f*koff_BB/(__s0*__s3)\n",
      "[I(b=None), B(d=1, i=None) % B(d=1, i=None)] <--> [B(d=1, i=2) % B(d=1, i=None) % I(b=2)]\n",
      "K_f: 2.0*__s1*__s2*f**(-phi)*kon_BI\n",
      "K_r: __s4*f**(1 - phi)*koff_BI\n",
      "K_d: 0.5*__s4*kon_BI**(-1)*f*koff_BI/(__s1*__s2)\n",
      "[I(b=None), B(d=1, i=2) % B(d=1, i=None) % I(b=2)] <--> [B(d=1, i=2) % B(d=1, i=3) % I(b=2) % I(b=3)]\n",
      "K_f: __s1*__s4*(f**(-1)*g**(-1))**phi*kon_BI\n",
      "K_r: 2.0*__s5*(f*g)**(1 - phi)*koff_BI\n",
      "K_d: 2.0*__s5*kon_BI**(-1)*f*g*koff_BI/(__s1*__s4)\n",
      "[B(d=None, i=1) % I(b=1), B(d=None, i=1) % I(b=1)] <--> [B(d=1, i=2) % B(d=1, i=3) % I(b=2) % I(b=3)]\n",
      "K_f: 0.5*__s3**2*(f**(-2)*g**(-1))**phi*kon_BB\n",
      "K_r: __s5*f**(2 - 2*phi)*g**(1 - phi)*koff_BB\n",
      "K_d: 2.0*__s5*(f**2*g)**phi*f**(2 - 2*phi)*g**(1 - phi)*kon_BB**(-1)*koff_BB/__s3**2\n"
     ]
    },
    {
     "data": {
      "text/plain": [
       "'for key in sorted(ke_dict.keys()):\\n    #e_sub = sp.sympify(str(ke_dict[key].subs(ke_subs).simplify()))\\n    #b_sub = sp.sympify(str(kb_dict[key].subs(kb_subs).simplify()))\\n    e_sub = extra_simple(ke_dict[key].subs(ke_subs).simplify())\\n    b_sub = extra_simple(kb_dict[key].subs(kb_subs).simplify())\\n\\n    assert e_sub.equals(b_sub)\\n\\n    print \"\"\\n    print \"rct:\", key[0],\"-->\", key[1]\\n    print \"rct:\", species(key[0]),\"-->\", species(key[1])\\n    print \"e\", e_sub\\n    #print \"eunsimp\", ke_dict[key].subs(ke_subs)\\n    print \"b\", b_sub\\n    \\n    #print(latex(e_sub))\\n    #print(latex(b_sub))\\n    print \"\"\\n    #assert e_sub.equals(b_sub)\\n\\n    \\n    #print e.subs(ke_subs), b.subs(kb_subs)\\n#for e, b in rct:\\n    #e_sub = sp.sympify(str(e[2].subs(ke_subs).simplify()))\\n    #b_sub = sp.sympify(str(b[2].subs(kb_subs).simplify()))'"
      ]
     },
     "execution_count": 3,
     "metadata": {},
     "output_type": "execute_result"
    }
   ],
   "source": [
    "\"\"\"for i, j in zip(kb.model.species, ke.model.species):\n",
    " \n",
    "    assert i.is_equivalent_to(j)\n",
    "\n",
    "species_map = dict(zip(range(len(kb.model.species)), kb.model.species))\n",
    "\n",
    "ke_subs, kb_subs = [zip(m.model.expressions,[e.expand_expr(expand_observables=True) for e in m.model.expressions]) for m in ke, kb]\n",
    "print ke.model.parameters[2]\n",
    "ke_dict, kb_dict = [dict([((x['reactants'], x['products']), x['rate']) for x in y])\n",
    "                                    for y in [ke.model.reactions, kb.model.reactions]]\n",
    "\n",
    "\"\"\"\n",
    "\"\"\"\n",
    "TODO:\n",
    "1. Substitute the species __s0 with some identifier\n",
    "2. Find a list of all of the UNIQUE bidirectional reactions\"\"\"\n",
    "\n",
    "def print_rct_rates(m):\n",
    "    for (react, prod), (fwd, rev, kd) in gen_rct_rates(m):\n",
    "        print react, \"<-->\", prod\n",
    "        print \"K_f:\", fwd\n",
    "        print \"K_r:\", rev\n",
    "        print \"K_d:\", kd\n",
    "        \n",
    "def print_to_latex(m, outfile):\n",
    "    for (react, prod), (fwd, rev, kd) in gen_rct_rates(m):\n",
    "        outfile.write(str(react).replace(\"%\", \":\") + \"<-->\" + str(prod).replace(\"%\", \":\") + \" \\\\ \\n\")\n",
    "        outfile.write(latex(fwd) + \"\\\\ \\n\")\n",
    "        outfile.write(latex(rev) + \"\\\\ \\n\")\n",
    "        outfile.write(latex(kd) + \"\\\\ \\n\")\n",
    "        \n",
    "def gen_rct_rates(m):\n",
    "    ## from a model, create a generator of all reaction rates binned by forward, reverse, kd\n",
    "    rct_dict = dict([((x['reactants'], x['products']), x['rate']) for x in m.model.reactions])\n",
    "    rct_subs = zip(m.model.expressions,[e.expand_expr(expand_observables=True) for e in m.model.expressions])\n",
    "    species_map = dict(zip(range(len(m.model.species)), m.model.species))\n",
    "    species = lambda tup: [species_map[x] for x in tup]\n",
    "    fwd_keys = sorted(filter(lambda k: len(k[0]) == 2, rct_dict.keys()))\n",
    "\n",
    "    for k in fwd_keys:\n",
    "        yield ((species(k[0]), species(k[1])), rct_rates(k, rct_dict, rct_subs))\n",
    "\n",
    "def rct_rates(fwd_key, rct_dict, rct_subs):\n",
    "    ## Takes keys of FORWARD reactions\n",
    "    fwd_rate = extra_simple(rct_dict[fwd_key].subs(rct_subs).simplify())\n",
    "    rev_rate = extra_simple(rct_dict[(fwd_key[1], fwd_key[0])].subs(rct_subs).simplify())\n",
    "    k_d = extra_simple(rev_rate/fwd_rate)\n",
    "    return (fwd_rate, rev_rate, k_d)\n",
    "\n",
    "def extra_simple(mul):\n",
    "    return sp.expand_power_base(sp.powdenest(sp.logcombine(sp.expand_log(mul.simplify(), force=True), force=True), force=True), force=True)\n",
    "\n",
    "print_rct_rates(m)\n",
    "print_to_latex(m, open('ke_model.tex', 'w'))\n",
    "\"\"\"for key in sorted(ke_dict.keys()):\n",
    "    #e_sub = sp.sympify(str(ke_dict[key].subs(ke_subs).simplify()))\n",
    "    #b_sub = sp.sympify(str(kb_dict[key].subs(kb_subs).simplify()))\n",
    "    e_sub = extra_simple(ke_dict[key].subs(ke_subs).simplify())\n",
    "    b_sub = extra_simple(kb_dict[key].subs(kb_subs).simplify())\n",
    "\n",
    "    assert e_sub.equals(b_sub)\n",
    "\n",
    "    print \"\"\n",
    "    print \"rct:\", key[0],\"-->\", key[1]\n",
    "    print \"rct:\", species(key[0]),\"-->\", species(key[1])\n",
    "    print \"e\", e_sub\n",
    "    #print \"eunsimp\", ke_dict[key].subs(ke_subs)\n",
    "    print \"b\", b_sub\n",
    "    \n",
    "    #print(latex(e_sub))\n",
    "    #print(latex(b_sub))\n",
    "    print \"\"\n",
    "    #assert e_sub.equals(b_sub)\n",
    "\n",
    "    \n",
    "    #print e.subs(ke_subs), b.subs(kb_subs)\n",
    "#for e, b in rct:\n",
    "    #e_sub = sp.sympify(str(e[2].subs(ke_subs).simplify()))\n",
    "    #b_sub = sp.sympify(str(b[2].subs(kb_subs).simplify()))\"\"\""
   ]
  },
  {
   "cell_type": "markdown",
   "metadata": {},
   "source": [
    "### dir(m)"
   ]
  },
  {
   "cell_type": "code",
   "execution_count": 4,
   "metadata": {},
   "outputs": [
    {
     "data": {
      "text/plain": [
       "[{'products': (2,),\n",
       "  'rate': 0.5*__s0**2*_BB_dimerization_local1 - __s2*__reverse_BB_dimerization_local1,\n",
       "  'reactants': (0, 0),\n",
       "  'reversible': True,\n",
       "  'rule': ('BB_dimerization',)},\n",
       " {'products': (3,),\n",
       "  'rate': __s0*__s1*_BI_binding_local1 - __s3*__reverse_BI_binding_local1,\n",
       "  'reactants': (0, 1),\n",
       "  'reversible': True,\n",
       "  'rule': ('BI_binding',)},\n",
       " {'products': (4,),\n",
       "  'rate': __s0*__s3*_BB_dimerization_local2 - __s4*__reverse_BB_dimerization_local2,\n",
       "  'reactants': (0, 3),\n",
       "  'reversible': True,\n",
       "  'rule': ('BB_dimerization',)},\n",
       " {'products': (5,),\n",
       "  'rate': 0.5*__s3**2*_BB_dimerization_local3 - __s5*__reverse_BB_dimerization_local3,\n",
       "  'reactants': (3, 3),\n",
       "  'reversible': True,\n",
       "  'rule': ('BB_dimerization',)},\n",
       " {'products': (4,),\n",
       "  'rate': 2.0*__s1*__s2*_BI_binding_local2 - __s4*__reverse_BI_binding_local2,\n",
       "  'reactants': (1, 2),\n",
       "  'reversible': True,\n",
       "  'rule': ('BI_binding',)},\n",
       " {'products': (5,),\n",
       "  'rate': __s1*__s4*_BI_binding_local3 - 2.0*__s5*__reverse_BI_binding_local3,\n",
       "  'reactants': (1, 4),\n",
       "  'reversible': True,\n",
       "  'rule': ('BI_binding',)}]"
      ]
     },
     "execution_count": 4,
     "metadata": {},
     "output_type": "execute_result"
    }
   ],
   "source": [
    "m.model.reactions_bidirectional\n"
   ]
  },
  {
   "cell_type": "code",
   "execution_count": 5,
   "metadata": {},
   "outputs": [
    {
     "ename": "NameError",
     "evalue": "name '__s0' is not defined",
     "output_type": "error",
     "traceback": [
      "\u001b[0;31m---------------------------------------------------------------------------\u001b[0m",
      "\u001b[0;31mNameError\u001b[0m                                 Traceback (most recent call last)",
      "\u001b[0;32m<ipython-input-5-fdb927a5c7c2>\u001b[0m in \u001b[0;36m<module>\u001b[0;34m()\u001b[0m\n\u001b[0;32m----> 1\u001b[0;31m \u001b[0msp\u001b[0m\u001b[0;34m.\u001b[0m\u001b[0mparsing\u001b[0m\u001b[0;34m.\u001b[0m\u001b[0msympy_parser\u001b[0m\u001b[0;34m.\u001b[0m\u001b[0meval_expr\u001b[0m\u001b[0;34m(\u001b[0m\u001b[0;34m'0.5*__s0**2*exp(RT*log(kon_BB)*RT**(-1))'\u001b[0m\u001b[0;34m,\u001b[0m \u001b[0;34m{\u001b[0m\u001b[0;34m}\u001b[0m\u001b[0;34m,\u001b[0m \u001b[0;34m{\u001b[0m\u001b[0;34m}\u001b[0m\u001b[0;34m)\u001b[0m\u001b[0;34m\u001b[0m\u001b[0m\n\u001b[0m",
      "\u001b[0;32m/home/priya/.local/lib/python2.7/site-packages/sympy/parsing/sympy_parser.pyc\u001b[0m in \u001b[0;36meval_expr\u001b[0;34m(code, local_dict, global_dict)\u001b[0m\n\u001b[1;32m    805\u001b[0m     \"\"\"\n\u001b[1;32m    806\u001b[0m     expr = eval(\n\u001b[0;32m--> 807\u001b[0;31m         code, global_dict, local_dict)  # take local objects in preference\n\u001b[0m\u001b[1;32m    808\u001b[0m \u001b[0;34m\u001b[0m\u001b[0m\n\u001b[1;32m    809\u001b[0m     \u001b[0;32mreturn\u001b[0m \u001b[0mexpr\u001b[0m\u001b[0;34m\u001b[0m\u001b[0m\n",
      "\u001b[0;32m<string>\u001b[0m in \u001b[0;36m<module>\u001b[0;34m()\u001b[0m\n",
      "\u001b[0;31mNameError\u001b[0m: name '__s0' is not defined"
     ]
    }
   ],
   "source": [
    "sp.parsing.sympy_parser.eval_expr('0.5*__s0**2*exp(RT*log(kon_BB)*RT**(-1))', {}, {})"
   ]
  },
  {
   "cell_type": "code",
   "execution_count": null,
   "metadata": {
    "collapsed": true
   },
   "outputs": [],
   "source": []
  },
  {
   "cell_type": "code",
   "execution_count": null,
   "metadata": {
    "collapsed": true
   },
   "outputs": [],
   "source": []
  }
 ],
 "metadata": {
  "kernelspec": {
   "display_name": "Python 2",
   "language": "python",
   "name": "python2"
  },
  "language_info": {
   "codemirror_mode": {
    "name": "ipython",
    "version": 2
   },
   "file_extension": ".py",
   "mimetype": "text/x-python",
   "name": "python",
   "nbconvert_exporter": "python",
   "pygments_lexer": "ipython2",
   "version": "2.7.13"
  }
 },
 "nbformat": 4,
 "nbformat_minor": 2
}
