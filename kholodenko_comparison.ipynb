{
 "cells": [
  {
   "cell_type": "code",
   "execution_count": 1,
   "metadata": {},
   "outputs": [
    {
     "data": {
      "text/plain": [
       "'/home/priya/pysb/pysb/bng.pyc'"
      ]
     },
     "execution_count": 1,
     "metadata": {},
     "output_type": "execute_result"
    }
   ],
   "source": [
    "import pysb.bng\n",
    "import kholodenko_basic as kb\n",
    "import kholodenko_m1 as m\n",
    "#import kholodenko_m3 as m3 # this is just to test redundant rules\n",
    "import sympy as sp\n",
    "import sys\n",
    "from sympy.printing import latex\n",
    "import re\n",
    "import numpy as np\n",
    "import tabulate as tb\n",
    "import pandas as pd\n",
    "import collections\n",
    "pysb.bng.__file__"
   ]
  },
  {
   "cell_type": "code",
   "execution_count": 2,
   "metadata": {
    "collapsed": true
   },
   "outputs": [],
   "source": [
    "pysb.bng.generate_equations(kb.model)\n",
    "pysb.bng.generate_equations(m.model)\n",
    "#pysb.bng.generate_equations(m3.model)"
   ]
  },
  {
   "cell_type": "code",
   "execution_count": 3,
   "metadata": {},
   "outputs": [
    {
     "name": "stdout",
     "output_type": "stream",
     "text": [
      "----  -------------------------------------------\n",
      "__s3  B(d=None, i=1) % I(b=1)\n",
      "__s2  B(d=1, i=None) % B(d=1, i=None)\n",
      "__s1  I(b=None)\n",
      "__s0  B(d=None, i=None)\n",
      "__s5  B(d=1, i=2) % B(d=1, i=3) % I(b=2) % I(b=3)\n",
      "__s4  B(d=1, i=2) % B(d=1, i=None) % I(b=2)\n",
      "----  -------------------------------------------\n",
      "----------------  ---------------------------------------------------------------------------------  ------------------------------------------  ----------------------------------------  ---------------------------------------------\n",
      "kholodenko-basic  B(d=None, i=1)I(b=1) + B(d=None, i=1)I(b=1)<-->B(d=1, i=2)B(d=1, i=3)I(b=2)I(b=3)  0.5*__s3**2*(f**(-1)*g**(-1))**phi*k_on_BB  __s5*(f*g)**(1 - phi)*k_off_BB            2.0*__s5*k_on_BB**(-1)*f*g*k_off_BB/__s3**2\n",
      "kholodenko-basic  B(d=None, i=None) + B(d=None, i=1)I(b=1)<-->B(d=1, i=2)B(d=1, i=None)I(b=2)        __s0*__s3*f**(-phi)*k_on_BB                 __s4*f**(1 - phi)*k_off_BB                __s4*k_on_BB**(-1)*f*k_off_BB/(__s0*__s3)\n",
      "kholodenko-basic  B(d=None, i=None) + B(d=None, i=None)<-->B(d=1, i=None)B(d=1, i=None)              0.5*__s0**2*k_on_BB                         __s2*k_off_BB                             2.0*__s2*k_on_BB**(-1)*k_off_BB/__s0**2\n",
      "kholodenko-basic  B(d=None, i=None) + I(b=None)<-->B(d=None, i=1)I(b=1)                              __s0*__s1*k_on_BI                           __s3*k_off_BI                             __s3*k_on_BI**(-1)*k_off_BI/(__s0*__s1)\n",
      "kholodenko-basic  I(b=None) + B(d=1, i=2)B(d=1, i=None)I(b=2)<-->B(d=1, i=2)B(d=1, i=3)I(b=2)I(b=3)  __s1*__s4*g**(-phi)*k_on_BI                 2.0*__s5*g**(1 - phi)*k_off_BI            2.0*__s5*k_on_BI**(-1)*g*k_off_BI/(__s1*__s4)\n",
      "kholodenko-basic  I(b=None) + B(d=1, i=None)B(d=1, i=None)<-->B(d=1, i=2)B(d=1, i=None)I(b=2)        2.0*__s1*__s2*f**(-phi)*k_on_BI             __s4*f**(1 - phi)*k_off_BI                0.5*__s4*k_on_BI**(-1)*f*k_off_BI/(__s1*__s2)\n",
      "kholodenko-m1     B(d=None, i=1)I(b=1) + B(d=None, i=1)I(b=1)<-->B(d=1, i=2)B(d=1, i=3)I(b=2)I(b=3)  0.5*__s3**2*(f**(-1)*g**(-1))**phi*k_on_BB  __s5*(f**(-1)*g**(-1))**phi*f*g*k_off_BB  2.0*__s5*k_on_BB**(-1)*f*g*k_off_BB/__s3**2\n",
      "kholodenko-m1     B(d=None, i=None) + B(d=None, i=1)I(b=1)<-->B(d=1, i=2)B(d=1, i=None)I(b=2)        __s0*__s3*f**(-phi)*k_on_BB                 __s4*f**(1 - phi)*k_off_BB                __s4*k_on_BB**(-1)*f*k_off_BB/(__s0*__s3)\n",
      "kholodenko-m1     B(d=None, i=None) + B(d=None, i=None)<-->B(d=1, i=None)B(d=1, i=None)              0.5*__s0**2*k_on_BB                         __s2*k_off_BB                             2.0*__s2*k_on_BB**(-1)*k_off_BB/__s0**2\n",
      "kholodenko-m1     B(d=None, i=None) + I(b=None)<-->B(d=None, i=1)I(b=1)                              __s0*__s1*k_on_BI                           __s3*k_off_BI                             __s3*k_on_BI**(-1)*k_off_BI/(__s0*__s1)\n",
      "kholodenko-m1     I(b=None) + B(d=1, i=2)B(d=1, i=None)I(b=2)<-->B(d=1, i=2)B(d=1, i=3)I(b=2)I(b=3)  __s1*__s4*g**(-phi)*k_on_BI                 2.0*__s5*g**(-phi)*g*k_off_BI             2.0*__s5*k_on_BI**(-1)*g*k_off_BI/(__s1*__s4)\n",
      "kholodenko-m1     I(b=None) + B(d=1, i=None)B(d=1, i=None)<-->B(d=1, i=2)B(d=1, i=None)I(b=2)        2.0*__s1*__s2*f**(-phi)*k_on_BI             __s4*f**(1 - phi)*k_off_BI                0.5*__s4*k_on_BI**(-1)*f*k_off_BI/(__s1*__s2)\n",
      "----------------  ---------------------------------------------------------------------------------  ------------------------------------------  ----------------------------------------  ---------------------------------------------"
     ]
    }
   ],
   "source": [
    "\"\"\"for i, j in zip(kb.model.species, ke.model.species):\n",
    " \n",
    "    assert i.is_equivalent_to(j)\n",
    "\n",
    "species_map = dict(zip(range(len(kb.model.species)), kb.model.species))\n",
    "\n",
    "ke_subs, kb_subs = [zip(m.model.expressions,[e.expand_expr(expand_observables=True) for e in m.model.expressions]) for m in ke, kb]\n",
    "print ke.model.parameters[2]\n",
    "ke_dict, kb_dict = [dict([((x['reactants'], x['products']), x['rate']) for x in y])\n",
    "                                    for y in [ke.model.reactions, kb.model.reactions]]\n",
    "\n",
    "\"\"\"\n",
    "\"\"\"\n",
    "TODO:\n",
    "0. NOT DONE:\n",
    "    organize by products and reactants then subset by rule name because rule names are NOT conserved\n",
    "DONE:\n",
    "1. Substitute the species __s0 with some identifier Done 23 oct\n",
    "2. Find a list of all of the UNIQUE bidirectional reactions Done 23 oct\"\"\"\n",
    "\n",
    "import pysb.bng\n",
    "import sympy as sp\n",
    "import sys\n",
    "from sympy.printing import latex\n",
    "import re\n",
    "import numpy as np\n",
    "import tabulate as tb\n",
    "import pandas as pd\n",
    "import collections\n",
    "import kholodenko_basic as kb\n",
    "import kholodenko_m1 as m\n",
    "\n",
    "def fmt_rct(r, species_dict, fmt='plain'):\n",
    "    \n",
    "    arrow = {'latex': \" $\\longleftrightarrow$ \",\n",
    "             'plain': \"<-->\"}[fmt]\n",
    "    fmt_fct = {'latex': lambda x: \"$%s$\" % latex(x).replace(\"__\", \"\").replace(\" % \", \"\"),\n",
    "               'plain': lambda x: str(x).replace(\" % \", \"\")}[fmt]\n",
    "    r_schema = \" + \".join(map(fmt_fct, r.reactants)) + arrow + \"\".join(map(fmt_fct, r.products))\n",
    "    return [r.name.replace(\"_\", \"-\"), r_schema, fmt_fct(r.fwd_rate), fmt_fct(r.rev_rate), fmt_fct(r.kd)]\n",
    "\n",
    "\n",
    "def gen_table(model_list, fmt='plain'):\n",
    "    \n",
    "    # this is assuming that all models must have the same species....\n",
    "    m = model_list[0]\n",
    "    species_dict = dict([('__s%d' % idx, str(m.model.species[idx])) for idx in range(len(m.model.species))])\n",
    "    \n",
    "    all_rates_tidy = pd.DataFrame(data=np.vstack([[[m.__name__.replace(\"_\", \"-\")] \\\n",
    "                                                   + fmt_rct(x, species_dict, fmt=fmt) \\\n",
    "                                                   for x in gen_rct_rates(m)] \\\n",
    "                                                   for m in model_list]), \\\n",
    "                                columns=[\"model\", \"rule\", \"schema\", \"fwd_rate\", \"rev_rate\", \"kd\"])\n",
    "\n",
    "    return np.array(species_dict.items()),  all_rates_tidy.sort_values([\"schema\"])\n",
    "        \n",
    "def gen_rct_rates(m):\n",
    "    ## from a model, create a generator of all reaction rates binned by forward, reverse, kd\n",
    "  \n",
    "    rct_subs = dict(zip(m.model.expressions,[e.expand_expr(expand_observables=True) for e in m.model.expressions])) #\\+ [(sp.Symbol('__s%d' % m.model.get_species_index(complex_pattern=species)), latex(species)) for species in m.model.species])\n",
    "    species_map = dict(zip(range(len(m.model.species)), m.model.species))\n",
    "    species = lambda tup: [species_map[x] for x in tup]\n",
    "    \n",
    "    fwd_rxn = dict([((r[\"rule\"][0], r[\"products\"], r[\"reactants\"]), r) for r in m.model.reactions if not r[\"reverse\"][0]])\n",
    "    rev_rxn = dict([((r[\"rule\"][0], r[\"reactants\"], r[\"products\"]), r) for r in m.model.reactions if r[\"reverse\"][0]])\n",
    "    rxn_tup = collections.namedtuple(\"reaction\", [\"name\", \"reactants\", \"products\", \"fwd_rate\", \"rev_rate\", \"kd\"])\n",
    "    rxn_ids = fwd_rxn.keys()\n",
    "    \n",
    "    def make_rct_tuple(rxn_id):\n",
    "        \n",
    "        rule_name = rxn_id[0]\n",
    "        rev_rate = extra_simple(rev_rxn[rxn_id][\"rate\"].subs(rct_subs))\n",
    "        fwd_rate = extra_simple(fwd_rxn[rxn_id][\"rate\"].subs(rct_subs))\n",
    "        kd = extra_simple(rev_rate/fwd_rate)\n",
    "        reactants, products = [species(fwd_rxn[rxn_id][s]) for s in [\"reactants\", \"products\"]]\n",
    "\n",
    "        return rxn_tup(rule_name, reactants, products, fwd_rate, rev_rate, kd)\n",
    "    \n",
    "    return map(make_rct_tuple, rxn_ids)\n",
    "\n",
    "\n",
    "def extra_simple(mul):\n",
    "    return sp.powsimp((sp.expand_power_base(sp.powdenest(sp.logcombine(sp.expand_log(mul.simplify(), force=True), force=True), force=True), force=True)), force=True)\n",
    "\n",
    "def model_name(model):\n",
    "    return model.__name__.replace(\"_\", \"-\")\n",
    "    \n",
    "def table_to_printstream(species, table, fmt='plain'):\n",
    "    table = table.sort_values(\"model\")\n",
    "    table = table[[\"model\", \"schema\", \"fwd_rate\", \"rev_rate\", \"kd\"]].as_matrix()\n",
    "    \n",
    "    if fmt == 'latex':\n",
    "        return \"\\n\".join([\"\\documentclass{article}\",\n",
    "                             \"\\usepackage[utf8]{inputenc}\", \n",
    "                             \"\\usepackage{amsmath}\", \n",
    "                             \"\\\\begin{document}\", \n",
    "                            '\\def\\\\arraystretch{2}',\n",
    "                          tb.tabulate(species, tablefmt='latex_raw'),\n",
    "                          tb.tabulate(table, tablefmt='latex_raw'),\n",
    "                          \"\\end{document}\"])\n",
    "    elif fmt == 'plain':\n",
    "        return \"\\n\".join([tb.tabulate(species),\n",
    "                          tb.tabulate(table)])\n",
    "                         \n",
    "\n",
    "def main():\n",
    "    models = [m, kb]\n",
    "    species, rxns = gen_table(models, fmt='plain')\n",
    "    sys.stdout.write(table_to_printstream(species, rxns, fmt='plain'))\n",
    "\n",
    "\n",
    "main()\n"
   ]
  },
  {
   "cell_type": "markdown",
   "metadata": {},
   "source": [
    "### dir(m)"
   ]
  },
  {
   "cell_type": "code",
   "execution_count": 14,
   "metadata": {},
   "outputs": [
    {
     "name": "stdout",
     "output_type": "stream",
     "text": [
      "kholodenko_m1\n"
     ]
    },
    {
     "data": {
      "text/plain": [
       "['__class__',\n",
       " '__delattr__',\n",
       " '__dict__',\n",
       " '__doc__',\n",
       " '__format__',\n",
       " '__getattribute__',\n",
       " '__hash__',\n",
       " '__init__',\n",
       " '__module__',\n",
       " '__new__',\n",
       " '__reduce__',\n",
       " '__reduce_ex__',\n",
       " '__repr__',\n",
       " '__setattr__',\n",
       " '__setstate__',\n",
       " '__sizeof__',\n",
       " '__str__',\n",
       " '__subclasshook__',\n",
       " '__weakref__',\n",
       " '_component_types',\n",
       " '_export',\n",
       " '_extra_expressions',\n",
       " '_odes',\n",
       " '_rename_component',\n",
       " '_stoichiometry_matrix',\n",
       " '_validate_initial_condition_pattern',\n",
       " 'add_annotation',\n",
       " 'add_component',\n",
       " 'all_component_sets',\n",
       " 'all_components',\n",
       " 'annotations',\n",
       " 'base',\n",
       " 'compartments',\n",
       " 'diffusivities',\n",
       " 'enable_synth_deg',\n",
       " 'energypatterns',\n",
       " 'expressions',\n",
       " 'expressions_constant',\n",
       " 'expressions_dynamic',\n",
       " 'get_annotations',\n",
       " 'get_species_index',\n",
       " 'has_synth_deg',\n",
       " 'initial',\n",
       " 'initial_conditions',\n",
       " 'monomers',\n",
       " 'name',\n",
       " 'observables',\n",
       " 'odes',\n",
       " 'parameters',\n",
       " 'parameters_compartments',\n",
       " 'parameters_initial_conditions',\n",
       " 'parameters_rules',\n",
       " 'parameters_unused',\n",
       " 'reactions',\n",
       " 'reactions_bidirectional',\n",
       " 'reload',\n",
       " 'reset_equations',\n",
       " 'rules',\n",
       " 'species',\n",
       " 'stoichiometry_matrix',\n",
       " 'update_initial_condition_pattern']"
      ]
     },
     "execution_count": 14,
     "metadata": {},
     "output_type": "execute_result"
    }
   ],
   "source": [
    "print str(m.model.name)\n",
    "dir(m.model)\n"
   ]
  },
  {
   "cell_type": "code",
   "execution_count": null,
   "metadata": {
    "collapsed": true
   },
   "outputs": [],
   "source": [
    "import collections\n",
    "g = collections.namedtuple(\"reaction\", [\"h\", \"i\", \"j\"])\n",
    "dir(g(2, 3, 5))"
   ]
  },
  {
   "cell_type": "code",
   "execution_count": null,
   "metadata": {
    "collapsed": true
   },
   "outputs": [],
   "source": []
  },
  {
   "cell_type": "code",
   "execution_count": null,
   "metadata": {
    "collapsed": true
   },
   "outputs": [],
   "source": []
  }
 ],
 "metadata": {
  "kernelspec": {
   "display_name": "Python 2",
   "language": "python",
   "name": "python2"
  },
  "language_info": {
   "codemirror_mode": {
    "name": "ipython",
    "version": 2
   },
   "file_extension": ".py",
   "mimetype": "text/x-python",
   "name": "python",
   "nbconvert_exporter": "python",
   "pygments_lexer": "ipython2",
   "version": "2.7.13"
  }
 },
 "nbformat": 4,
 "nbformat_minor": 2
}
