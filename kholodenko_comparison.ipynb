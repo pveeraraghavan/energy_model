{
 "cells": [
  {
   "cell_type": "code",
   "execution_count": 16,
   "metadata": {},
   "outputs": [
    {
     "data": {
      "text/plain": [
       "'/anaconda/lib/python2.7/site-packages/pysb/bng.pyc'"
      ]
     },
     "execution_count": 16,
     "metadata": {},
     "output_type": "execute_result"
    }
   ],
   "source": [
    "import pysb.bng\n",
    "import kholodenko_basic as kb\n",
    "#import kholodenko_m1 as m\n",
    "#import kholodenko_m3 as m3 # this is just to test redundant rules\n",
    "import sympy as sp\n",
    "from sympy.printing import latex\n",
    "import re\n",
    "import numpy as np\n",
    "import tabulate as tb\n",
    "import pandas as pd\n",
    "import collections\n",
    "pysb.bng.__file__"
   ]
  },
  {
   "cell_type": "code",
   "execution_count": 2,
   "metadata": {},
   "outputs": [],
   "source": [
    "pysb.bng.generate_equations(kb.model)\n",
    "#pysb.bng.generate_equations(m.model)\n",
    "#pysb.bng.generate_equations(m3.model)"
   ]
  },
  {
   "cell_type": "code",
   "execution_count": 23,
   "metadata": {},
   "outputs": [],
   "source": [
    "\"\"\"for i, j in zip(kb.model.species, ke.model.species):\n",
    " \n",
    "    assert i.is_equivalent_to(j)\n",
    "\n",
    "species_map = dict(zip(range(len(kb.model.species)), kb.model.species))\n",
    "\n",
    "ke_subs, kb_subs = [zip(m.model.expressions,[e.expand_expr(expand_observables=True) for e in m.model.expressions]) for m in ke, kb]\n",
    "print ke.model.parameters[2]\n",
    "ke_dict, kb_dict = [dict([((x['reactants'], x['products']), x['rate']) for x in y])\n",
    "                                    for y in [ke.model.reactions, kb.model.reactions]]\n",
    "\n",
    "\"\"\"\n",
    "\"\"\"\n",
    "TODO:\n",
    "0. NOT DONE:\n",
    "    organize by products and reactants then subset by rule name because rule names are NOT conserved\n",
    "DONE:\n",
    "1. Substitute the species __s0 with some identifier Done 23 oct\n",
    "2. Find a list of all of the UNIQUE bidirectional reactions Done 23 oct\"\"\"\n",
    "\n",
    "\n",
    "\n",
    "def fmt_rct(r, species_dict, fmt='plain'):\n",
    "    \n",
    "    arrow = {'latex': \" $\\longleftrightarrow$ \",\n",
    "             'plain': \"<-->\"}[fmt]\n",
    "    fmt_fct = {'latex': lambda x: \"$%s$\" % latex(x).replace(\"__\", \"\").replace(\" % \", \"\"),\n",
    "               'plain': lambda x: str(x).replace(\" % \", \"\")}[fmt]\n",
    "    r_schema = \" + \".join(map(fmt_fct, r.reactants)) + arrow + \"\".join(map(fmt_fct, r.products))\n",
    "    return [r.name.replace(\"_\", \"-\"), r_schema, fmt_fct(r.fwd_rate), fmt_fct(r.rev_rate), fmt_fct(r.kd)]\n",
    "\n",
    "\n",
    "\n",
    "def gen_table(model_list, fmt='plain'):\n",
    "    \n",
    "    # this is assuming that all models must have the same species....\n",
    "    m = model_list[0]\n",
    "    species_dict = dict([('__s%d' % idx, str(m.model.species[idx])) for idx in range(len(m.model.species))])\n",
    "    \n",
    "    all_rates_tidy = pd.DataFrame(data=np.vstack([[[m.__name__.replace(\"_\", \"-\")] + fmt_rct(x, species_dict, fmt=fmt) for x in gen_rct_rates(m)] for m in model_list]), columns=[\"model\", \"rule\", \"schema\", \"fwd_rate\", \"rev_rate\", \"kd\"])\n",
    "\n",
    "    #rxn_dict = { k: np.hstack([np.array([[k[0], 'K_f'], [k[1], 'K_r'], [\"\", 'K_d']]), \n",
    "    #                                                np.array([d[k] for d in dicts]).T]) for k in dicts[0] }\n",
    "    #rxn_array = np.vstack([np.array([[\"Rule\", \"Rate\"] + [mod.__name__.replace(\"_\", \"-\") for mod in model_list]]), np.vstack(rxn_dict.values())])\n",
    "\n",
    "    return np.array(species_dict.items()),  all_rates_tidy.sort_values([\"schema\"])\n",
    "        \n",
    "def gen_rct_rates(m):\n",
    "    ## from a model, create a generator of all reaction rates binned by forward, reverse, kd\n",
    "  \n",
    "    rct_subs = dict(zip(m.model.expressions,[e.expand_expr(expand_observables=True) for e in m.model.expressions])) #\\+ [(sp.Symbol('__s%d' % m.model.get_species_index(complex_pattern=species)), latex(species)) for species in m.model.species])\n",
    "    species_map = dict(zip(range(len(m.model.species)), m.model.species))\n",
    "    species = lambda tup: [species_map[x] for x in tup]\n",
    "    \n",
    "    rule_names = [r.name for r in m.model.rules]\n",
    "    fwd_rxn = dict([(r[\"rule\"][0], r) for r in m.model.reactions if not r[\"reverse\"][0]])\n",
    "    rev_rxn = dict([(r[\"rule\"][0], r) for r in m.model.reactions if r[\"reverse\"][0]])\n",
    "    rxn_tup = collections.namedtuple(\"reaction\", [\"name\", \"reactants\", \"products\", \"fwd_rate\", \"rev_rate\", \"kd\"])\n",
    "    \n",
    "    def make_rct_tuple(rule_name):\n",
    "        \n",
    "        rev_rate = extra_simple(rev_rxn[rule_name][\"rate\"].subs(rct_subs))\n",
    "        fwd_rate = extra_simple(fwd_rxn[rule_name][\"rate\"].subs(rct_subs))\n",
    "        kd = extra_simple(rev_rate/fwd_rate)\n",
    "        reactants, products = [species(fwd_rxn[rule_name][s]) for s in [\"reactants\", \"products\"]]\n",
    "\n",
    "        return rxn_tup(rule_name, reactants, products, fwd_rate, rev_rate, kd)\n",
    "    \n",
    "    return map(make_rct_tuple, rule_names)\n",
    "\n",
    "\n",
    "def extra_simple(mul):\n",
    "    return sp.powsimp((sp.expand_power_base(sp.powdenest(sp.logcombine(sp.expand_log(mul.simplify(), force=True), force=True), force=True), force=True)), force=True)\n",
    "\n",
    "species, rxns = gen_table([kb, kb], fmt='latex')\n",
    "with open('model.txt', 'w') as out:\n",
    "    out.write(tb.tabulate(species))\n",
    "\n",
    "    \n",
    "def write_latex_dict_to_file(latex_table, outfile):\n",
    "    with open(outfile, 'w') as out:\n",
    "        out.write(\"\\n\".join([\"\\documentclass{article}\",\n",
    "                             \"\\usepackage[utf8]{inputenc}\", \n",
    "                             \"\\usepackage{amsmath}\", \n",
    "                             \"\\\\begin{document}\", \n",
    "                            '\\def\\\\arraystretch{2}']))\n",
    "        out.write(tb.tabulate(latex_table, tablefmt='latex_raw'))\n",
    "        out.write(\"\\end{document}\")\n",
    "\n",
    "write_latex_dict_to_file(rxns[[\"model\", \"rule\", \"fwd_rate\", \"rev_rate\", \"kd\"]].as_matrix(), 'rxns.txt')\n",
    "## other shit here\n",
    "#def fmt_reaction(reaction, m=m):\n",
    "    \n",
    "#    reaction = str(reaction)\n",
    "    #for species in range(len(m.model.species)):\n",
    "    #    match = '__s' + str(species)\n",
    "        #reaction = reaction.replace(match, '[' + str(m.model.species[species]).replace(\"(\", \"_{\").replace(\")\", \"}\").replace(\" % \", \":\")+']')\n",
    "        \n",
    "     #   reaction = re.sub(r'\\([^%]+\\)', \"\", \\\n",
    "     #                     reaction.replace(match, \"[%s]\" % str(m.model.species[species]))).replace(\" % \", \"\")\n",
    "#    return reaction\n",
    "\n",
    "\n",
    "def gen_latex(rct_rates, m):\n",
    "    \n",
    "    species_name_dict = dict([('__s%d' % idx, str(m.model.species[idx])) for idx in range(len(m.model.species))])\n",
    "    \n",
    "    def fmt_rxn(reaction):\n",
    "        return latex(reaction)\n",
    "    \n",
    "    for r in rct_rates:\n",
    "        rct_schema = \" + \".join(map(fmt_reaction, r.reactants)) \\\n",
    "        + \" $\\longleftrightarrow$ \" + \"\".join(map(fmt_reaction, r.products))\n",
    "        rates = [r.fwd_rate, r.rev_rate, r.kd]\n",
    "        yield ((r.name, rct_schema), map(lambda eq: \"$%s$\" % fmt_reaction(eq), rates)) # fmt_reaction(latex(eq))\n",
    "\n",
    "\n",
    "\n",
    "\n",
    "def rct_rates(fwd_key, rct_dict, rct_subs):\n",
    "    ## Takes keys of FORWARD reactions\n",
    "    fwd_rate = extra_simple(rct_dict[fwd_key].subs(rct_subs).simplify())\n",
    "    rev_rate = extra_simple(rct_dict[(fwd_key[1], fwd_key[0])].subs(rct_subs).simplify())\n",
    "    k_d = extra_simple(rev_rate/fwd_rate)\n",
    "    return (fwd_rate, rev_rate, k_d)\n",
    "\n",
    "def extra_simple(mul):\n",
    "    return sp.expand_power_base(sp.powdenest(sp.logcombine(sp.expand_log(mul.simplify(), force=True), force=True), force=True), force=True)\n",
    "\n",
    "def latex_table_models(model_list):\n",
    "    ## Takes in a list of models with the same k's, though calculated potentially differently\n",
    "    dicts = [dict([x for x in gen_latex(gen_rct_rates(model))]) for model in model_list]\n",
    "    print np.array([['K_f', 'K_r', 'K_d']]).shape\n",
    "    latex_dict = { k: np.hstack([np.array([[k[0], 'K_f'], [k[1], 'K_r'], [\"\", 'K_d']]), \n",
    "                                                    np.array([d[k] for d in dicts]).T]) for k in dicts[0] }\n",
    "    return np.vstack([np.array([[\"Rule\", \"Rate\"] + [mod.__name__.replace(\"_\", \"-\") for mod in model_list]]), np.vstack(latex_dict.values())])\n",
    "\n",
    "\n",
    "                  \n",
    "    \n",
    "#write_latex_dict_to_file(latex_table_models([m3]), 'model.txt')\n"
   ]
  },
  {
   "cell_type": "markdown",
   "metadata": {},
   "source": [
    "### dir(m)"
   ]
  },
  {
   "cell_type": "code",
   "execution_count": null,
   "metadata": {},
   "outputs": [],
   "source": [
    "m3.model.reactions\n",
    "m3.model.rules[0].name"
   ]
  },
  {
   "cell_type": "code",
   "execution_count": null,
   "metadata": {},
   "outputs": [],
   "source": [
    "import collections\n",
    "g = collections.namedtuple(\"reaction\", [\"h\", \"i\", \"j\"])\n",
    "dir(g(2, 3, 5))"
   ]
  },
  {
   "cell_type": "code",
   "execution_count": null,
   "metadata": {
    "collapsed": true
   },
   "outputs": [],
   "source": []
  },
  {
   "cell_type": "code",
   "execution_count": null,
   "metadata": {
    "collapsed": true
   },
   "outputs": [],
   "source": []
  }
 ],
 "metadata": {
  "kernelspec": {
   "display_name": "Python 2",
   "language": "python",
   "name": "python2"
  },
  "language_info": {
   "codemirror_mode": {
    "name": "ipython",
    "version": 2
   },
   "file_extension": ".py",
   "mimetype": "text/x-python",
   "name": "python",
   "nbconvert_exporter": "python",
   "pygments_lexer": "ipython2",
   "version": "2.7.13"
  }
 },
 "nbformat": 4,
 "nbformat_minor": 2
}
